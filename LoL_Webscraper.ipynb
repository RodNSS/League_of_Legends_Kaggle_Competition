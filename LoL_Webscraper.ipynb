{
 "cells": [
  {
   "cell_type": "code",
   "execution_count": 1,
   "id": "2cbb4f17",
   "metadata": {},
   "outputs": [
    {
     "name": "stderr",
     "output_type": "stream",
     "text": [
      "Error getting version of chromedriver 115. Retrying with chromedriver 114 (attempt 1/5)\n"
     ]
    },
    {
     "name": "stdout",
     "output_type": "stream",
     "text": [
      "    championName  win_rate  pick_rate  ban_rate\n",
      "0         Aatrox    0.5132     0.0945     0.219\n",
      "1           Ahri    0.4983     0.1060     0.055\n",
      "2          Akali    0.4874     0.0295     0.038\n",
      "3         Akshan    0.5168     0.0235     0.079\n",
      "4        Alistar    0.5160     0.0800     0.032\n",
      "..           ...       ...        ...       ...\n",
      "159         Zeri    0.4896     0.0390     0.015\n",
      "160        Ziggs    0.5074     0.0115     0.001\n",
      "161       Zilean    0.5074     0.0230     0.007\n",
      "162          Zoe    0.5129     0.0350     0.023\n",
      "163         Zyra    0.5098     0.0360     0.012\n",
      "\n",
      "[164 rows x 4 columns]\n"
     ]
    }
   ],
   "source": [
    "from selenium import webdriver\n",
    "from selenium.webdriver.common.by import By\n",
    "import pandas as pd\n",
    "import time\n",
    "\n",
    "driver = webdriver.Chrome()\n",
    "\n",
    "# our data uses patches 13_1, 13_2, 13_4 and 13_5\n",
    "url = 'https://u.gg/lol/tier-list?patch=13_4&rank=diamond'\n",
    "driver.get(url)\n",
    "\n",
    "# scroll the page to load all the champion names\n",
    "while len(driver.find_elements(By.CSS_SELECTOR, 'strong.champion-name')) < 226: # change value based on total champion names per page\n",
    "    driver.execute_script(\"window.scrollTo(0, document.body.scrollHeight);\")\n",
    "    time.sleep(1)\n",
    "\n",
    "# extract the champion names, win rates, pick rates, and ban rates\n",
    "champion_names = []\n",
    "win_rates = []\n",
    "pick_rates = []\n",
    "ban_rates = []\n",
    "for i, row in enumerate(driver.find_elements(By.CSS_SELECTOR, 'div.rt-tr-group')):\n",
    "    # find the champion name and win rates \n",
    "    champion_name = row.find_element(By.CSS_SELECTOR, 'strong.champion-name').text.strip()\n",
    "    win_rate_class = 'div.rt-td.winrate.sorted.is-in-odd-row' if i % 2 == 0 else 'div.rt-td.winrate.sorted'\n",
    "    win_rate = row.find_element(By.CSS_SELECTOR, win_rate_class).text.strip()\n",
    "    win_rate = float(win_rate[:-1]) / 100  # convert win rate to decimal\n",
    "    \n",
    "    # find the pick rate and ban rate \n",
    "    pick_rate_class = 'div.rt-td.pickrate.is-in-odd-row' if i % 2 == 0 else 'div.rt-td.pickrate'\n",
    "    pick_rate = row.find_element(By.CSS_SELECTOR, pick_rate_class).text.strip()\n",
    "    pick_rate = float(pick_rate[:-1]) / 100  # convert pick rate to decimal\n",
    "    ban_rate_class = 'div.rt-td.banrate.is-in-odd-row' if i % 2 == 0 else 'div.rt-td.banrate'\n",
    "    ban_rate = row.find_element(By.CSS_SELECTOR, ban_rate_class).text.strip()\n",
    "    ban_rate = float(ban_rate[:-1]) / 100  # convert ban rate to decimal\n",
    "    \n",
    "    champion_names.append(champion_name)\n",
    "    win_rates.append(win_rate)\n",
    "    pick_rates.append(pick_rate)\n",
    "    ban_rates.append(ban_rate)\n",
    "\n",
    "data = {'championName': champion_names, 'win_rate': win_rates, 'pick_rate': pick_rates, 'ban_rate': ban_rates}\n",
    "win_rate_data = pd.DataFrame(data)\n",
    "\n",
    "# remove spaces, ' and . in the championName column\n",
    "win_rate_data['championName'] = win_rate_data['championName'].str.strip().str.replace(\"'\", '').str.replace(\".\", '').str.replace(' ', '')\n",
    "\n",
    "# drop duplicates and average their win rates, pick rates, and ban rates\n",
    "win_rate_data = win_rate_data.groupby('championName', as_index=False).mean()\n",
    "\n",
    "print(win_rate_data)\n",
    "\n",
    "driver.quit()"
   ]
  },
  {
   "cell_type": "code",
   "execution_count": 10,
   "id": "6f340012",
   "metadata": {},
   "outputs": [],
   "source": [
    "win_rate_data.to_csv('win_rate_data.csv', index=False)"
   ]
  }
 ],
 "metadata": {
  "kernelspec": {
   "display_name": "Python 3 (ipykernel)",
   "language": "python",
   "name": "python3"
  },
  "language_info": {
   "codemirror_mode": {
    "name": "ipython",
    "version": 3
   },
   "file_extension": ".py",
   "mimetype": "text/x-python",
   "name": "python",
   "nbconvert_exporter": "python",
   "pygments_lexer": "ipython3",
   "version": "3.9.12"
  }
 },
 "nbformat": 4,
 "nbformat_minor": 5
}
